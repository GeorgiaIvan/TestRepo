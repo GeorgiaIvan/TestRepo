{
 "cells": [
  {
   "cell_type": "markdown",
   "id": "6dcb8056-ebe3-4c06-bf7a-d30b93b7f250",
   "metadata": {},
   "source": [
    "# Data Science Tools and Ecosystem "
   ]
  },
  {
   "cell_type": "markdown",
   "id": "68a44e9d-56bf-4fcf-ad3f-d0b4a24eb882",
   "metadata": {},
   "source": [
    "In this notebook, Data Science Tools and Ecosystem are summarized."
   ]
  },
  {
   "cell_type": "markdown",
   "id": "defb55aa-c91e-4c9e-a8b5-fa390795d094",
   "metadata": {},
   "source": [
    "Some of the popular languages that Data Scientists use are:\n",
    "1. Python\n",
    "2. R\n",
    "3. SQL\n",
    "4. Julia"
   ]
  },
  {
   "cell_type": "markdown",
   "id": "0f406634-b611-4c2c-b730-77ee2629479c",
   "metadata": {},
   "source": [
    "|Data Science Tools|\n",
    "|------------------|\n",
    "|Jupyter Notebook|\n",
    "|R Studio|\n",
    "|Pandas|"
   ]
  },
  {
   "cell_type": "markdown",
   "id": "30e306d7-d3e9-41d6-9dec-ebd22457c87e",
   "metadata": {},
   "source": [
    "### Below are a few examples of evaluating arithmetic expressions in Python"
   ]
  },
  {
   "cell_type": "code",
   "execution_count": 1,
   "id": "ad7820ba-5937-4883-8879-466b9181ee28",
   "metadata": {},
   "outputs": [
    {
     "data": {
      "text/plain": [
       "17"
      ]
     },
     "execution_count": 1,
     "metadata": {},
     "output_type": "execute_result"
    }
   ],
   "source": [
    "# This a simple arithmetic expression to mutiply then add integers\n",
    "(3*4)+5"
   ]
  },
  {
   "cell_type": "code",
   "execution_count": 3,
   "id": "cf6e222a-06eb-4553-ac2f-bee83522271e",
   "metadata": {},
   "outputs": [
    {
     "name": "stdout",
     "output_type": "stream",
     "text": [
      "3\n"
     ]
    }
   ],
   "source": [
    "# This will convert 200 minutes to hours by diving by 60\n",
    "x= 200\n",
    "y= x//60\n",
    "print(y)"
   ]
  },
  {
   "cell_type": "markdown",
   "id": "22895e34-a4a3-4f53-9e9d-8ce558bd133c",
   "metadata": {},
   "source": [
    "**Objectives**\n",
    "* List popular languages for Data Science\n",
    "* Creat a tabel in Jupyter Notebooks\n",
    "* Creat an ordered list\n",
    "* Create an unordered list\n",
    "* Use different styles for a markdown cell"
   ]
  },
  {
   "cell_type": "markdown",
   "id": "2366cd37-46c9-4e53-a3d5-6b35799a9cf1",
   "metadata": {},
   "source": [
    "## Author\n",
    "Ivan Loredana-Georgia"
   ]
  },
  {
   "cell_type": "code",
   "execution_count": null,
   "id": "a0acd690-ab4a-4ec2-8b4a-06ea952ce2b1",
   "metadata": {},
   "outputs": [],
   "source": []
  }
 ],
 "metadata": {
  "kernelspec": {
   "display_name": "Python [conda env:base] *",
   "language": "python",
   "name": "conda-base-py"
  },
  "language_info": {
   "codemirror_mode": {
    "name": "ipython",
    "version": 3
   },
   "file_extension": ".py",
   "mimetype": "text/x-python",
   "name": "python",
   "nbconvert_exporter": "python",
   "pygments_lexer": "ipython3",
   "version": "3.13.5"
  }
 },
 "nbformat": 4,
 "nbformat_minor": 5
}
